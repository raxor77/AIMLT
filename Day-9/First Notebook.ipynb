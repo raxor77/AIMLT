{
 "cells": [
  {
   "cell_type": "markdown",
   "id": "8da68bae-b5ee-4920-b5ae-578b3435face",
   "metadata": {},
   "source": [
    "# Jupyter First NoteBook"
   ]
  },
  {
   "cell_type": "code",
   "execution_count": 13,
   "id": "9ae645df-da93-4c22-9c43-b183de68605a",
   "metadata": {
    "jupyter": {
     "source_hidden": true
    }
   },
   "outputs": [
    {
     "name": "stdout",
     "output_type": "stream",
     "text": [
      "welcome to jupyter notebook\n"
     ]
    }
   ],
   "source": [
    "print('welcome to jupyter notebook')"
   ]
  },
  {
   "cell_type": "code",
   "execution_count": 14,
   "id": "76a87ee9-656c-4331-8e4b-ae2e0b225e0d",
   "metadata": {},
   "outputs": [],
   "source": [
    "#We going to write one collection of numbers\n",
    "numbers=(2,65,34,9)"
   ]
  },
  {
   "cell_type": "code",
   "execution_count": 19,
   "id": "300dc76b-da1b-42a8-9f67-7563b48a9331",
   "metadata": {},
   "outputs": [
    {
     "name": "stdout",
     "output_type": "stream",
     "text": [
      "2 65 34 9 "
     ]
    }
   ],
   "source": [
    "for num in numbers:\n",
    "    print(num,end=\" \")"
   ]
  },
  {
   "cell_type": "code",
   "execution_count": 17,
   "id": "0b29d84f-de0c-4b7b-8902-f3598a82895d",
   "metadata": {},
   "outputs": [
    {
     "name": "stdout",
     "output_type": "stream",
     "text": [
      "1 2 3 4 5 6 7 8 9 10 11 12 13 14 15 16 17 18 19 20 21 22 23 24 25 26 27 28 29 30 31 32 33 34 35 36 37 38 39 40 41 42 43 44 45 46 47 48 49 50 51 52 53 54 55 56 57 58 59 60 61 62 63 64 65 66 67 68 69 70 71 72 73 74 75 76 77 78 79 80 81 82 83 84 85 86 87 88 89 90 91 92 93 94 95 96 97 98 99 "
     ]
    }
   ],
   "source": [
    "for i in range(1,100):\n",
    "    print(i, end=\" \")"
   ]
  },
  {
   "cell_type": "markdown",
   "id": "35424166-270a-4cdd-84b3-b486b638d805",
   "metadata": {},
   "source": [
    "# End of First Note"
   ]
  },
  {
   "cell_type": "markdown",
   "id": "441d067b-f784-427b-a381-a2dc227fa330",
   "metadata": {},
   "source": [
    "# Second Note"
   ]
  },
  {
   "cell_type": "code",
   "execution_count": null,
   "id": "d124a68a-fff3-4a0c-9b65-cc71531e64f7",
   "metadata": {},
   "outputs": [],
   "source": []
  }
 ],
 "metadata": {
  "kernelspec": {
   "display_name": "Python [conda env:base] *",
   "language": "python",
   "name": "conda-base-py"
  },
  "language_info": {
   "codemirror_mode": {
    "name": "ipython",
    "version": 3
   },
   "file_extension": ".py",
   "mimetype": "text/x-python",
   "name": "python",
   "nbconvert_exporter": "python",
   "pygments_lexer": "ipython3",
   "version": "3.13.5"
  }
 },
 "nbformat": 4,
 "nbformat_minor": 5
}
