{
 "cells": [
  {
   "cell_type": "markdown",
   "id": "1ebe8a82-fbe6-4d34-aa8e-860a8a88cd95",
   "metadata": {},
   "source": [
    "# Day 10 Jupyter Note Book"
   ]
  },
  {
   "cell_type": "code",
   "execution_count": 4,
   "id": "f435ae32-391b-4e0c-962e-89cbe676234d",
   "metadata": {},
   "outputs": [
    {
     "name": "stdout",
     "output_type": "stream",
     "text": [
      "Welcome to Day10 AIML training\n"
     ]
    }
   ],
   "source": [
    "print('Welcome to Day10 AIML training')"
   ]
  },
  {
   "cell_type": "code",
   "execution_count": null,
   "id": "9808d0e9-4e2f-4864-9a61-1b93b0abf46c",
   "metadata": {},
   "outputs": [],
   "source": []
  }
 ],
 "metadata": {
  "kernelspec": {
   "display_name": "Python [conda env:base] *",
   "language": "python",
   "name": "conda-base-py"
  },
  "language_info": {
   "codemirror_mode": {
    "name": "ipython",
    "version": 3
   },
   "file_extension": ".py",
   "mimetype": "text/x-python",
   "name": "python",
   "nbconvert_exporter": "python",
   "pygments_lexer": "ipython3",
   "version": "3.13.5"
  }
 },
 "nbformat": 4,
 "nbformat_minor": 5
}
