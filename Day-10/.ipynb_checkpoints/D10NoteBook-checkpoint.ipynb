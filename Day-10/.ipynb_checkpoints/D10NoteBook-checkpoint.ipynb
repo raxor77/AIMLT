{
 "cells": [
  {
   "cell_type": "markdown",
   "id": "109e06c1-7802-48a7-9e40-6b27cfa3f729",
   "metadata": {},
   "source": [
    "# Day 10 Jupyter Note Book\n",
    "## Fimiliarize with notebook\n",
    "### first writing in programming in note"
   ]
  },
  {
   "cell_type": "code",
   "execution_count": 15,
   "id": "f435ae32-391b-4e0c-962e-89cbe676234d",
   "metadata": {},
   "outputs": [
    {
     "name": "stdout",
     "output_type": "stream",
     "text": [
      "Welcome to Day10 AIML training\n"
     ]
    }
   ],
   "source": [
    "print('Welcome to Day10 AIML training')"
   ]
  },
  {
   "cell_type": "markdown",
   "id": "d4f78b01-5bbd-42da-a10e-d4664e12a92f",
   "metadata": {},
   "source": [
    "#### For loop"
   ]
  },
  {
   "cell_type": "code",
   "execution_count": 16,
   "id": "79093aba-8dec-4e84-83b6-9d73259ce11d",
   "metadata": {
    "scrolled": true
   },
   "outputs": [
    {
     "name": "stdout",
     "output_type": "stream",
     "text": [
      "1\t2\t3\t4\t5\t6\t7\t8\t9\t10\t11\t12\t13\t14\t15\t16\t17\t18\t19\t20\t21\t22\t23\t24\t25\t26\t27\t28\t29\t30\t31\t32\t33\t34\t35\t36\t37\t38\t39\t40\t41\t42\t43\t44\t45\t46\t47\t48\t49\t50\t51\t52\t53\t54\t55\t56\t57\t58\t59\t60\t61\t62\t63\t64\t65\t66\t67\t68\t69\t70\t71\t72\t73\t74\t75\t76\t77\t78\t79\t80\t81\t82\t83\t84\t85\t86\t87\t88\t89\t90\t91\t92\t93\t94\t95\t96\t97\t98\t99\t100\t"
     ]
    }
   ],
   "source": [
    "for numbers in range(1,101):\n",
    "    print(numbers, end=\"\\t\")"
   ]
  },
  {
   "cell_type": "code",
   "execution_count": 17,
   "id": "b11b0956-8235-42cf-a861-b3c06fe633f1",
   "metadata": {
    "scrolled": true
   },
   "outputs": [],
   "source": [
    "players=('Ahmad','Danish','Syed','Azlan','Ghani','Zulkifli')"
   ]
  },
  {
   "cell_type": "code",
   "execution_count": 18,
   "id": "a21b2064-4892-4ab3-9ad5-e5e81a46efcb",
   "metadata": {
    "jp-MarkdownHeadingCollapsed": true,
    "scrolled": true
   },
   "outputs": [
    {
     "name": "stdout",
     "output_type": "stream",
     "text": [
      "Ahmad\n",
      "Danish\n",
      "Syed\n",
      "Azlan\n",
      "Ghani\n",
      "Zulkifli\n"
     ]
    }
   ],
   "source": [
    "for player in players:\n",
    "    print(player)"
   ]
  },
  {
   "cell_type": "code",
   "execution_count": null,
   "id": "3bdeb1dc-8825-474d-b81d-3efcc7640b60",
   "metadata": {},
   "outputs": [],
   "source": []
  }
 ],
 "metadata": {
  "kernelspec": {
   "display_name": "Python [conda env:base] *",
   "language": "python",
   "name": "conda-base-py"
  },
  "language_info": {
   "codemirror_mode": {
    "name": "ipython",
    "version": 3
   },
   "file_extension": ".py",
   "mimetype": "text/x-python",
   "name": "python",
   "nbconvert_exporter": "python",
   "pygments_lexer": "ipython3",
   "version": "3.13.5"
  }
 },
 "nbformat": 4,
 "nbformat_minor": 5
}
